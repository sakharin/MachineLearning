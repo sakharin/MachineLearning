{
 "cells": [
  {
   "cell_type": "markdown",
   "id": "9e14ab8d-3811-4017-9b7d-6caa55fe83c0",
   "metadata": {},
   "source": [
    "Classify handwritten digits using 2 dense layers."
   ]
  },
  {
   "cell_type": "markdown",
   "id": "a610c6e3-ce55-4825-b100-35268443edf1",
   "metadata": {},
   "source": [
    "Load mnist dataset."
   ]
  },
  {
   "cell_type": "code",
   "execution_count": null,
   "id": "f0dff7c9-9af5-4b61-80fb-1deda155520c",
   "metadata": {},
   "outputs": [],
   "source": [
    "from tensorflow.keras.datasets import mnist\n",
    "(train_images, train_labels), (test_images, test_labels) = mnist.load_data()"
   ]
  },
  {
   "cell_type": "markdown",
   "id": "dce0bd62-9bd9-4a95-969e-de1b15ff4cee",
   "metadata": {},
   "source": [
    "View shape of the dataset."
   ]
  },
  {
   "cell_type": "code",
   "execution_count": null,
   "id": "9ebbce68-2358-4f60-917f-27a62b0ac727",
   "metadata": {},
   "outputs": [],
   "source": [
    "print(\"train_images.shape:\", train_images.shape)\n",
    "print(\"len(train_labels) :\", len(train_labels))\n",
    "print(\"test_images.shape :\", test_images.shape)\n",
    "print(\"len(test_labels)  :\", len(test_labels))"
   ]
  },
  {
   "cell_type": "markdown",
   "id": "818f12b7-cced-43ff-b814-914e0d0c7eae",
   "metadata": {},
   "source": [
    "Shape of the train images and the test image are mx28x28 and nx28x28 respectively. Let convert them to mx(28x28) and nx(28x28) which are proper for our dense model."
   ]
  },
  {
   "cell_type": "code",
   "execution_count": null,
   "id": "df60d73d-7182-4252-ab66-adf5a2162a42",
   "metadata": {},
   "outputs": [],
   "source": [
    "train_images = train_images.reshape((60000, 28 * 28))\n",
    "train_images = train_images.astype(\"float32\") / 255\n",
    "test_images = test_images.reshape((10000, 28 * 28))\n",
    "test_images = test_images.astype(\"float32\") / 255"
   ]
  },
  {
   "cell_type": "markdown",
   "id": "5284f9e0-455f-43e4-855f-5d01b7067bfe",
   "metadata": {},
   "source": [
    "View the shape one more time."
   ]
  },
  {
   "cell_type": "code",
   "execution_count": null,
   "id": "f50d7d38-e3aa-4308-9630-0d926c988bc9",
   "metadata": {},
   "outputs": [],
   "source": [
    "print(\"train_images.shape:\", train_images.shape)\n",
    "print(\"test_images.shape :\", test_images.shape)"
   ]
  },
  {
   "cell_type": "markdown",
   "id": "14596ce2-077e-4e5b-bafa-3e742340aa84",
   "metadata": {},
   "source": [
    "Now, define our dense model. Make it a function so it can be reused."
   ]
  },
  {
   "cell_type": "code",
   "execution_count": null,
   "id": "b94433d1-cc60-4a7c-8ff2-54ede4cfc553",
   "metadata": {},
   "outputs": [],
   "source": [
    "import os\n",
    "\n",
    "from tensorflow import keras\n",
    "from tensorflow.keras import layers\n",
    "\n",
    "\n",
    "def create_model():\n",
    "    model = keras.Sequential([\n",
    "        layers.Dense(512, activation=\"relu\"),\n",
    "        layers.Dense(10, activation=\"softmax\")\n",
    "    ])\n",
    "    model.compile(\n",
    "        optimizer=\"rmsprop\",\n",
    "        loss=\"sparse_categorical_crossentropy\",\n",
    "        metrics=[\"accuracy\"]\n",
    "    )\n",
    "    return model"
   ]
  },
  {
   "cell_type": "markdown",
   "id": "02979e13-bf43-46f8-89b7-1eb87040ff61",
   "metadata": {},
   "source": [
    "Set a checkpoint to keep weights of the model."
   ]
  },
  {
   "cell_type": "code",
   "execution_count": null,
   "id": "946edf12-99dc-4284-b0ed-2088a596ad98",
   "metadata": {},
   "outputs": [],
   "source": [
    "checkpoint_path = \"training_1/checkpoint.weights.h5\"\n",
    "checkpoint_dir = os.path.dirname(checkpoint_path)\n",
    "checkpoint_callback = keras.callbacks.ModelCheckpoint(\n",
    "    filepath=checkpoint_path,\n",
    "    save_weights_only=True,\n",
    "    verbose=1\n",
    ")"
   ]
  },
  {
   "cell_type": "markdown",
   "id": "00619ff6-f698-48da-828f-958bbf9cb70e",
   "metadata": {},
   "source": [
    "Train the model."
   ]
  },
  {
   "cell_type": "code",
   "execution_count": null,
   "id": "c75314f6-bccf-434c-8d1a-d3157cb95539",
   "metadata": {},
   "outputs": [],
   "source": [
    "model = create_model()\n",
    "model.fit(\n",
    "    train_images,\n",
    "    train_labels,\n",
    "    epochs=5,\n",
    "    batch_size=128,\n",
    "    callbacks=[checkpoint_callback]\n",
    ")"
   ]
  },
  {
   "cell_type": "markdown",
   "id": "6eb37063-5a42-43b6-aa6b-d31b2c156a7a",
   "metadata": {},
   "source": [
    "Show accuracy of the trained model."
   ]
  },
  {
   "cell_type": "code",
   "execution_count": null,
   "id": "3ac64f2e-39ff-46b8-92c7-81cb27832666",
   "metadata": {},
   "outputs": [],
   "source": [
    "test_loss, test_acc = model.evaluate(test_images, test_labels)\n",
    "print(\"Trained model, accuracy: {:5.2}%\".format(100 * test_acc))"
   ]
  },
  {
   "cell_type": "markdown",
   "id": "a040e72c-8df9-487f-95ce-812657949424",
   "metadata": {},
   "source": [
    "Now, create another model without training. The accuracy will be low."
   ]
  },
  {
   "cell_type": "code",
   "execution_count": null,
   "id": "858c06f3-ebc2-486c-8ef7-6090a7fabdf8",
   "metadata": {},
   "outputs": [],
   "source": [
    "model = create_model()\n",
    "loss, acc = model.evaluate(test_images, test_labels, verbose=2)\n",
    "print(\"Untrained model, accuracy: {:5.2f}%\".format(100 * acc))"
   ]
  },
  {
   "cell_type": "markdown",
   "id": "b6c97d46-12c8-4c77-8b38-85222746afb2",
   "metadata": {},
   "source": [
    "Use the weight of the trained model. The accuracy will be high."
   ]
  },
  {
   "cell_type": "code",
   "execution_count": null,
   "id": "83d88c16-a5d4-48f1-8a8c-54e4d955b92f",
   "metadata": {},
   "outputs": [],
   "source": [
    "model.load_weights(checkpoint_path)\n",
    "loss, acc = model.evaluate(test_images, test_labels, verbose=2)\n",
    "print(\"Restored model, accuracy: {:5.2f}%\".format(100 * acc))"
   ]
  }
 ],
 "metadata": {
  "kernelspec": {
   "display_name": "Python 3 (ipykernel)",
   "language": "python",
   "name": "python3"
  },
  "language_info": {
   "codemirror_mode": {
    "name": "ipython",
    "version": 3
   },
   "file_extension": ".py",
   "mimetype": "text/x-python",
   "name": "python",
   "nbconvert_exporter": "python",
   "pygments_lexer": "ipython3",
   "version": "3.12.3"
  }
 },
 "nbformat": 4,
 "nbformat_minor": 5
}
